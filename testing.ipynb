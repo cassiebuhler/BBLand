{
 "cells": [
  {
   "cell_type": "code",
   "execution_count": null,
   "metadata": {},
   "outputs": [],
   "source": [
    "import pandas as pd\n",
    "import rpy2.robjects as robjects\n",
    "#from rpy2.robjects import pandas2ri"
   ]
  },
  {
   "cell_type": "code",
   "execution_count": 1,
   "metadata": {},
   "outputs": [
    {
     "ename": "SyntaxError",
     "evalue": "invalid syntax (<ipython-input-1-b74633455669>, line 1)",
     "output_type": "error",
     "traceback": [
      "\u001b[1;36m  File \u001b[1;32m\"<ipython-input-1-b74633455669>\"\u001b[1;36m, line \u001b[1;32m1\u001b[0m\n\u001b[1;33m    which R\u001b[0m\n\u001b[1;37m          ^\u001b[0m\n\u001b[1;31mSyntaxError\u001b[0m\u001b[1;31m:\u001b[0m invalid syntax\n"
     ]
    }
   ],
   "source": []
  },
  {
   "cell_type": "code",
   "execution_count": 2,
   "metadata": {},
   "outputs": [
    {
     "name": "stdout",
     "output_type": "stream",
     "text": [
      "Collecting rpy2\n",
      "  Downloading https://files.pythonhosted.org/packages/55/43/d11bbc1e87383e8a01d74022182bc292011760a2f23c449d2c04dc1b794e/rpy2-3.5.13.tar.gz (218kB)\n",
      "  Installing build dependencies: started\n",
      "  Installing build dependencies: finished with status 'done'\n",
      "  Getting requirements to build wheel: started\n",
      "  Getting requirements to build wheel: finished with status 'done'\n",
      "    Preparing wheel metadata: started\n",
      "    Preparing wheel metadata: finished with status 'done'\n",
      "Requirement already satisfied: jinja2 in c:\\users\\cb3452\\appdata\\local\\continuum\\anaconda3\\lib\\site-packages (from rpy2) (2.10.3)\n",
      "Requirement already satisfied: packaging; platform_system == \"Windows\" in c:\\users\\cb3452\\appdata\\local\\continuum\\anaconda3\\lib\\site-packages (from rpy2) (19.2)\n",
      "Collecting typing-extensions; python_version < \"3.8\" (from rpy2)\n",
      "  Downloading https://files.pythonhosted.org/packages/ec/6b/63cc3df74987c36fe26157ee12e09e8f9db4de771e0f3404263117e75b95/typing_extensions-4.7.1-py3-none-any.whl\n",
      "Collecting backports.zoneinfo; python_version < \"3.9\" (from rpy2)\n",
      "  Downloading https://files.pythonhosted.org/packages/6c/99/513f2c4dd41522eefc42feb86854f6cf3b1add9c175c14d90c070775e484/backports.zoneinfo-0.2.1-cp37-cp37m-win_amd64.whl\n",
      "Requirement already satisfied: cffi>=1.10.0 in c:\\users\\cb3452\\appdata\\local\\continuum\\anaconda3\\lib\\site-packages (from rpy2) (1.12.3)\n",
      "Collecting tzlocal (from rpy2)\n",
      "  Downloading https://files.pythonhosted.org/packages/84/d2/730a87f0dbf184760394a85088d0d2366a5a8a32bc32ffd869a83f1de854/tzlocal-5.0.1-py3-none-any.whl\n",
      "Requirement already satisfied: MarkupSafe>=0.23 in c:\\users\\cb3452\\appdata\\local\\continuum\\anaconda3\\lib\\site-packages (from jinja2->rpy2) (1.1.1)\n",
      "Requirement already satisfied: six in c:\\users\\cb3452\\appdata\\local\\continuum\\anaconda3\\lib\\site-packages (from packaging; platform_system == \"Windows\"->rpy2) (1.12.0)\n",
      "Requirement already satisfied: pyparsing>=2.0.2 in c:\\users\\cb3452\\appdata\\local\\continuum\\anaconda3\\lib\\site-packages (from packaging; platform_system == \"Windows\"->rpy2) (2.4.2)\n",
      "Requirement already satisfied: pycparser in c:\\users\\cb3452\\appdata\\local\\continuum\\anaconda3\\lib\\site-packages (from cffi>=1.10.0->rpy2) (2.19)\n",
      "Collecting tzdata; platform_system == \"Windows\" (from tzlocal->rpy2)\n",
      "  Downloading https://files.pythonhosted.org/packages/d5/fb/a79efcab32b8a1f1ddca7f35109a50e4a80d42ac1c9187ab46522b2407d7/tzdata-2023.3-py2.py3-none-any.whl (341kB)\n",
      "Building wheels for collected packages: rpy2\n",
      "  Building wheel for rpy2 (PEP 517): started\n",
      "  Building wheel for rpy2 (PEP 517): finished with status 'done'\n",
      "  Created wheel for rpy2: filename=rpy2-3.5.13-cp37-none-any.whl size=220528 sha256=b44ec7a4e991a4834616a9601326aba02e5e79b3ae3eaaa29feb8b596ecb259f\n",
      "  Stored in directory: C:\\Users\\cb3452\\AppData\\Local\\pip\\Cache\\wheels\\ce\\12\\12\\a3320e15c58e3e9f3edb2db81a456c8e60b6a69c62a1179936\n",
      "Successfully built rpy2\n",
      "Installing collected packages: typing-extensions, backports.zoneinfo, tzdata, tzlocal, rpy2\n",
      "Successfully installed backports.zoneinfo-0.2.1 rpy2-3.5.13 typing-extensions-4.7.1 tzdata-2023.3 tzlocal-5.0.1\n",
      "Note: you may need to restart the kernel to use updated packages.\n"
     ]
    }
   ],
   "source": [
    "#pip install rpy2"
   ]
  },
  {
   "cell_type": "code",
   "execution_count": null,
   "metadata": {},
   "outputs": [],
   "source": []
  }
 ],
 "metadata": {
  "kernelspec": {
   "display_name": "Python 3",
   "language": "python",
   "name": "python3"
  },
  "language_info": {
   "codemirror_mode": {
    "name": "ipython",
    "version": 3
   },
   "file_extension": ".py",
   "mimetype": "text/x-python",
   "name": "python",
   "nbconvert_exporter": "python",
   "pygments_lexer": "ipython3",
   "version": "3.7.4"
  }
 },
 "nbformat": 4,
 "nbformat_minor": 4
}
